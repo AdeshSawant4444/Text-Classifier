{
 "cells": [
  {
   "cell_type": "code",
   "execution_count": 1,
   "id": "2124eb03",
   "metadata": {},
   "outputs": [],
   "source": [
    "import tensorflow as tf\n",
    "from tensorflow import keras\n",
    "import pandas as pd \n",
    "import numpy as np\n",
    "import os"
   ]
  },
  {
   "cell_type": "code",
   "execution_count": 2,
   "id": "a44d7422",
   "metadata": {},
   "outputs": [],
   "source": [
    "url = \"https://ai.stanford.edu/~amaas/data/sentiment/aclImdb_v1.tar.gz\""
   ]
  },
  {
   "cell_type": "code",
   "execution_count": 3,
   "id": "7924e30e",
   "metadata": {},
   "outputs": [],
   "source": [
    "dataset = keras.utils.get_file('aclImdb_v1',url,untar=True,cache_dir='.',cache_subdir='')"
   ]
  },
  {
   "cell_type": "code",
   "execution_count": 4,
   "id": "24e38d09",
   "metadata": {},
   "outputs": [
    {
     "data": {
      "text/plain": [
       "'.'"
      ]
     },
     "execution_count": 4,
     "metadata": {},
     "output_type": "execute_result"
    }
   ],
   "source": [
    "os.path.dirname(dataset)"
   ]
  },
  {
   "cell_type": "code",
   "execution_count": 5,
   "id": "2847d3e6",
   "metadata": {},
   "outputs": [],
   "source": [
    "dataset_dir = os.path.join(os.path.dirname(dataset),'aclImdb')"
   ]
  },
  {
   "cell_type": "code",
   "execution_count": 6,
   "id": "93f73318",
   "metadata": {},
   "outputs": [
    {
     "data": {
      "text/plain": [
       "['imdb.vocab', 'imdbEr.txt', 'README', 'test', 'train']"
      ]
     },
     "execution_count": 6,
     "metadata": {},
     "output_type": "execute_result"
    }
   ],
   "source": [
    "os.listdir(dataset_dir)"
   ]
  },
  {
   "cell_type": "code",
   "execution_count": 7,
   "id": "ceb04e71",
   "metadata": {},
   "outputs": [],
   "source": [
    "train_dir = os.path.join(dataset_dir,'train')\n",
    "test_dir = os.path.join(dataset_dir,'test')"
   ]
  },
  {
   "cell_type": "code",
   "execution_count": 8,
   "id": "d74be649",
   "metadata": {},
   "outputs": [
    {
     "data": {
      "text/plain": [
       "['labeledBow.feat',\n",
       " 'neg',\n",
       " 'pos',\n",
       " 'unsup',\n",
       " 'unsupBow.feat',\n",
       " 'urls_neg.txt',\n",
       " 'urls_pos.txt',\n",
       " 'urls_unsup.txt']"
      ]
     },
     "execution_count": 8,
     "metadata": {},
     "output_type": "execute_result"
    }
   ],
   "source": [
    "os.listdir(train_dir)"
   ]
  },
  {
   "cell_type": "code",
   "execution_count": 9,
   "id": "cd44d2f2",
   "metadata": {},
   "outputs": [
    {
     "data": {
      "text/plain": [
       "['labeledBow.feat', 'neg', 'pos', 'urls_neg.txt', 'urls_pos.txt']"
      ]
     },
     "execution_count": 9,
     "metadata": {},
     "output_type": "execute_result"
    }
   ],
   "source": [
    "os.listdir(test_dir)"
   ]
  },
  {
   "cell_type": "code",
   "execution_count": 10,
   "id": "b66910cc",
   "metadata": {},
   "outputs": [],
   "source": [
    "import shutil"
   ]
  },
  {
   "cell_type": "code",
   "execution_count": 11,
   "id": "a9ae1f3b",
   "metadata": {},
   "outputs": [],
   "source": [
    "shutil.rmtree(os.path.join(train_dir,'unsup'))"
   ]
  },
  {
   "cell_type": "code",
   "execution_count": 12,
   "id": "f85b39dd",
   "metadata": {},
   "outputs": [
    {
     "data": {
      "text/plain": [
       "['labeledBow.feat',\n",
       " 'neg',\n",
       " 'pos',\n",
       " 'unsupBow.feat',\n",
       " 'urls_neg.txt',\n",
       " 'urls_pos.txt',\n",
       " 'urls_unsup.txt']"
      ]
     },
     "execution_count": 12,
     "metadata": {},
     "output_type": "execute_result"
    }
   ],
   "source": [
    "os.listdir(train_dir)"
   ]
  },
  {
   "cell_type": "code",
   "execution_count": 13,
   "id": "2486eba0",
   "metadata": {},
   "outputs": [
    {
     "name": "stdout",
     "output_type": "stream",
     "text": [
      "Found 25000 files belonging to 2 classes.\n",
      "Using 20000 files for training.\n"
     ]
    }
   ],
   "source": [
    "raw_train_ds = keras.utils.text_dataset_from_directory(\n",
    "    train_dir,\n",
    "    validation_split=0.2,\n",
    "    subset='training',\n",
    "    batch_size=32,\n",
    "    seed=42)"
   ]
  },
  {
   "cell_type": "code",
   "execution_count": null,
   "id": "c3c99155",
   "metadata": {},
   "outputs": [],
   "source": []
  },
  {
   "cell_type": "code",
   "execution_count": 14,
   "id": "d384f83c",
   "metadata": {},
   "outputs": [
    {
     "data": {
      "text/plain": [
       "['neg', 'pos']"
      ]
     },
     "execution_count": 14,
     "metadata": {},
     "output_type": "execute_result"
    }
   ],
   "source": [
    "raw_train_ds.class_names"
   ]
  },
  {
   "cell_type": "code",
   "execution_count": 15,
   "id": "80eeca89",
   "metadata": {},
   "outputs": [
    {
     "name": "stdout",
     "output_type": "stream",
     "text": [
      "Found 25000 files belonging to 2 classes.\n",
      "Using 5000 files for validation.\n"
     ]
    }
   ],
   "source": [
    "raw_val_ds = keras.utils.text_dataset_from_directory(\n",
    "    train_dir,\n",
    "    validation_split=0.2,\n",
    "    subset='validation',\n",
    "    batch_size=32,\n",
    "    seed=42)"
   ]
  },
  {
   "cell_type": "code",
   "execution_count": 16,
   "id": "376ba073",
   "metadata": {},
   "outputs": [
    {
     "name": "stdout",
     "output_type": "stream",
     "text": [
      "Found 25000 files belonging to 2 classes.\n"
     ]
    }
   ],
   "source": [
    "raw_test_ds = keras.utils.text_dataset_from_directory(test_dir)"
   ]
  },
  {
   "cell_type": "code",
   "execution_count": 17,
   "id": "66e20d66",
   "metadata": {},
   "outputs": [],
   "source": [
    "import re\n",
    "import string"
   ]
  },
  {
   "cell_type": "raw",
   "id": "a93aaf70",
   "metadata": {},
   "source": [
    "\n"
   ]
  },
  {
   "cell_type": "code",
   "execution_count": 18,
   "id": "8281d619",
   "metadata": {},
   "outputs": [],
   "source": [
    "def cunstom_standardizer(input_data):\n",
    "    lower_text = tf.strings.lower(input_data)\n",
    "    html_striped = tf.strings.regex_replace(lower_text,'<br />',' ')\n",
    "    return tf.strings.regex_replace(html_striped,f'[{re.escape(string.punctuation)}]','')"
   ]
  },
  {
   "cell_type": "code",
   "execution_count": 19,
   "id": "ae679bf2",
   "metadata": {},
   "outputs": [
    {
     "data": {
      "text/plain": [
       "<tf.Tensor: shape=(), dtype=string, numpy=b'heloo    my naem  is adesh'>"
      ]
     },
     "execution_count": 19,
     "metadata": {},
     "output_type": "execute_result"
    }
   ],
   "source": [
    "cunstom_standardizer('Heloo <br /> ??? my naem \"\" is (Adesh)')"
   ]
  },
  {
   "cell_type": "code",
   "execution_count": null,
   "id": "d2f965c9",
   "metadata": {},
   "outputs": [],
   "source": [
    "\n"
   ]
  },
  {
   "cell_type": "code",
   "execution_count": 20,
   "id": "103f846e",
   "metadata": {},
   "outputs": [],
   "source": [
    "vectorization_layer = keras.layers.TextVectorization(\n",
    "    max_tokens=1000,\n",
    "    output_mode='int',\n",
    "    output_sequence_length=250,\n",
    "    standardize=cunstom_standardizer)"
   ]
  },
  {
   "cell_type": "code",
   "execution_count": 21,
   "id": "1b7930ef",
   "metadata": {},
   "outputs": [],
   "source": [
    "train_data = raw_train_ds.map(lambda x,y:x)"
   ]
  },
  {
   "cell_type": "code",
   "execution_count": 22,
   "id": "d9406bb3",
   "metadata": {},
   "outputs": [],
   "source": [
    "vectorization_layer.adapt(train_data)"
   ]
  },
  {
   "cell_type": "code",
   "execution_count": 23,
   "id": "551e16e1",
   "metadata": {},
   "outputs": [],
   "source": [
    "review_batch,label_batch = next(iter(raw_train_ds))"
   ]
  },
  {
   "cell_type": "code",
   "execution_count": 24,
   "id": "48432abe",
   "metadata": {},
   "outputs": [
    {
     "data": {
      "text/plain": [
       "<tf.Tensor: shape=(), dtype=string, numpy=b'Silent Night, Deadly Night 5 is the very last of the series, and like part 4, it\\'s unrelated to the first three except by title and the fact that it\\'s a Christmas-themed horror flick.<br /><br />Except to the oblivious, there\\'s some obvious things going on here...Mickey Rooney plays a toymaker named Joe Petto and his creepy son\\'s name is Pino. Ring a bell, anyone? Now, a little boy named Derek heard a knock at the door one evening, and opened it to find a present on the doorstep for him. Even though it said \"don\\'t open till Christmas\", he begins to open it anyway but is stopped by his dad, who scolds him and sends him to bed, and opens the gift himself. Inside is a little red ball that sprouts Santa arms and a head, and proceeds to kill dad. Oops, maybe he should have left well-enough alone. Of course Derek is then traumatized by the incident since he watched it from the stairs, but he doesn\\'t grow up to be some killer Santa, he just stops talking.<br /><br />There\\'s a mysterious stranger lurking around, who seems very interested in the toys that Joe Petto makes. We even see him buying a bunch when Derek\\'s mom takes him to the store to find a gift for him to bring him out of his trauma. And what exactly is this guy doing? Well, we\\'re not sure but he does seem to be taking these toys apart to see what makes them tick. He does keep his landlord from evicting him by promising him to pay him in cash the next day and presents him with a \"Larry the Larvae\" toy for his kid, but of course \"Larry\" is not a good toy and gets out of the box in the car and of course, well, things aren\\'t pretty.<br /><br />Anyway, eventually what\\'s going on with Joe Petto and Pino is of course revealed, and as with the old story, Pino is not a \"real boy\". Pino is probably even more agitated and naughty because he suffers from \"Kenitalia\" (a smooth plastic crotch) so that could account for his evil ways. And the identity of the lurking stranger is revealed too, and there\\'s even kind of a happy ending of sorts. Whee.<br /><br />A step up from part 4, but not much of one. Again, Brian Yuzna is involved, and Screaming Mad George, so some decent special effects, but not enough to make this great. A few leftovers from part 4 are hanging around too, like Clint Howard and Neith Hunter, but that doesn\\'t really make any difference. Anyway, I now have seeing the whole series out of my system. Now if I could get some of it out of my brain. 4 out of 5.'>"
      ]
     },
     "execution_count": 24,
     "metadata": {},
     "output_type": "execute_result"
    }
   ],
   "source": [
    "review_batch[0]"
   ]
  },
  {
   "cell_type": "code",
   "execution_count": 25,
   "id": "3ca6d2f5",
   "metadata": {},
   "outputs": [
    {
     "data": {
      "text/plain": [
       "<tf.Tensor: shape=(), dtype=int32, numpy=0>"
      ]
     },
     "execution_count": 25,
     "metadata": {},
     "output_type": "execute_result"
    }
   ],
   "source": [
    "label_batch[0]"
   ]
  },
  {
   "cell_type": "code",
   "execution_count": 26,
   "id": "d6db68f7",
   "metadata": {},
   "outputs": [
    {
     "data": {
      "text/plain": [
       "<tf.Tensor: shape=(1, 250), dtype=int64, numpy=\n",
       "array([[  1, 313,   1, 313, 661,   7,   2,  52, 229,   5,   2, 200,   3,\n",
       "         38, 170, 669,  29,   1,   6,   2,  83, 297, 549,  32, 410,   3,\n",
       "          2, 186,  12,  29,   4,   1, 191, 510, 549,   6,   2,   1, 212,\n",
       "         46, 576, 175, 168,  20,   1,   1, 290,   4,   1, 761, 969,   1,\n",
       "          3,  24, 935,   1, 393,   7,   1,   1,   4,   1, 250, 148,   4,\n",
       "        112, 436, 761,   1, 548,   4,   1,  31,   2,   1,  28,   1,   3,\n",
       "          1,   9,   6, 163,   4,   1,  20,   2,   1,  15,  85,  53, 147,\n",
       "          9, 292,  89, 959,   1, 984,  27, 762,   6, 959,   9, 564,  18,\n",
       "          7,   1,  32,  24,   1,  36,   1,  85,   3,   1,  85,   6,   1,\n",
       "          3,   1,   2,   1, 301, 965,   7,   4, 112, 740,   1,  12,   1,\n",
       "          1,   1,   3,   4, 428,   3,   1,   6, 512,   1,   1, 278,  27,\n",
       "        139,  25, 308,   1, 579,   5, 259,   1,   7,  92,   1,  32,   2,\n",
       "          1, 230,  27, 289,   9,  35,   2,   1,  18,  27, 144,   1,  56,\n",
       "          6,  26,  46, 466,   1,  27,  40,   1, 657, 212,   4,   1,   1,\n",
       "          1, 183,  36, 180,  52, 920,   8,   2,   1,  12, 969,   1, 158,\n",
       "         71,  53,  67,  85,   1,   4, 734,  51,   1,   1, 294,  85,   6,\n",
       "          2,   1,   6, 163,   4,   1,  15,  85,   6, 717,  85,  44,   5,\n",
       "         24,   1,   3,  48, 604,   7,  11, 225, 384,  73,  65,  21, 242,\n",
       "         18,  27, 120, 295,   6,  26, 667, 129,   1, 948,   6,  67,  48,\n",
       "        158,  93,   1]], dtype=int64)>"
      ]
     },
     "execution_count": 26,
     "metadata": {},
     "output_type": "execute_result"
    }
   ],
   "source": [
    "vectorization_layer(tf.expand_dims(review_batch[0],-1))"
   ]
  },
  {
   "cell_type": "code",
   "execution_count": 27,
   "id": "e84877f2",
   "metadata": {},
   "outputs": [],
   "source": [
    "def vectorized_text(text,label):\n",
    "    text = tf.expand_dims(text,-1)\n",
    "    return vectorization_layer(text),label"
   ]
  },
  {
   "cell_type": "code",
   "execution_count": 28,
   "id": "81149ce6",
   "metadata": {},
   "outputs": [],
   "source": [
    "train_ds = raw_train_ds.map(vectorized_text)\n",
    "val_ds = raw_val_ds.map(vectorized_text)\n",
    "test_ds = raw_test_ds.map(vectorized_text)"
   ]
  },
  {
   "cell_type": "code",
   "execution_count": 29,
   "id": "5a8dd5ad",
   "metadata": {},
   "outputs": [
    {
     "data": {
      "text/plain": [
       "(<tf.Tensor: shape=(32, 250), dtype=int64, numpy=\n",
       " array([[ 86,  17, 260, ...,   0,   0,   0],\n",
       "        [ 10, 237,   1, ...,   0,   0,   0],\n",
       "        [ 48,   4,   1, ...,   0,   0,   0],\n",
       "        ...,\n",
       "        [462,   2,   1, ...,   0,   0,   0],\n",
       "        [ 48,   1, 120, ..., 477, 300,  14],\n",
       "        [ 29,   4,  52, ...,   0,   0,   0]], dtype=int64)>,\n",
       " <tf.Tensor: shape=(32,), dtype=int32, numpy=\n",
       " array([0, 1, 1, 1, 1, 1, 1, 0, 1, 0, 0, 0, 1, 0, 1, 1, 0, 1, 0, 1, 1, 1,\n",
       "        1, 0, 1, 0, 0, 0, 1, 1, 0, 1])>)"
      ]
     },
     "execution_count": 29,
     "metadata": {},
     "output_type": "execute_result"
    }
   ],
   "source": [
    "next(iter(train_ds))"
   ]
  },
  {
   "cell_type": "code",
   "execution_count": 30,
   "id": "719c47db",
   "metadata": {},
   "outputs": [
    {
     "data": {
      "text/plain": [
       "'begin'"
      ]
     },
     "execution_count": 30,
     "metadata": {},
     "output_type": "execute_result"
    }
   ],
   "source": [
    "vectorization_layer.get_vocabulary()[866]"
   ]
  },
  {
   "cell_type": "code",
   "execution_count": 31,
   "id": "e3f8a27c",
   "metadata": {},
   "outputs": [],
   "source": [
    "model = keras.models.Sequential(\n",
    "    [\n",
    "        keras.layers.Embedding(1001,16),\n",
    "        keras.layers.Dropout(0.5),\n",
    "        keras.layers.GlobalAveragePooling1D(),\n",
    "        keras.layers.Dropout(0.5),\n",
    "        keras.layers.Dense(1)\n",
    "    ])"
   ]
  },
  {
   "cell_type": "code",
   "execution_count": 32,
   "id": "931e47e4",
   "metadata": {},
   "outputs": [
    {
     "name": "stdout",
     "output_type": "stream",
     "text": [
      "Model: \"sequential\"\n",
      "_________________________________________________________________\n",
      " Layer (type)                Output Shape              Param #   \n",
      "=================================================================\n",
      " embedding (Embedding)       (None, None, 16)          16016     \n",
      "                                                                 \n",
      " dropout (Dropout)           (None, None, 16)          0         \n",
      "                                                                 \n",
      " global_average_pooling1d (G  (None, 16)               0         \n",
      " lobalAveragePooling1D)                                          \n",
      "                                                                 \n",
      " dropout_1 (Dropout)         (None, 16)                0         \n",
      "                                                                 \n",
      " dense (Dense)               (None, 1)                 17        \n",
      "                                                                 \n",
      "=================================================================\n",
      "Total params: 16,033\n",
      "Trainable params: 16,033\n",
      "Non-trainable params: 0\n",
      "_________________________________________________________________\n"
     ]
    }
   ],
   "source": [
    "model.summary()"
   ]
  },
  {
   "cell_type": "code",
   "execution_count": 33,
   "id": "02247362",
   "metadata": {},
   "outputs": [],
   "source": [
    "model.compile(\n",
    "    loss = keras.losses.BinaryCrossentropy(from_logits=True),\n",
    "    optimizer='adam',\n",
    "    metrics=keras.metrics.BinaryAccuracy(threshold = 0.0))"
   ]
  },
  {
   "cell_type": "code",
   "execution_count": 34,
   "id": "7e606322",
   "metadata": {},
   "outputs": [
    {
     "name": "stdout",
     "output_type": "stream",
     "text": [
      "Epoch 1/10\n",
      "625/625 [==============================] - 84s 133ms/step - loss: 0.6797 - binary_accuracy: 0.6309 - val_loss: 0.6551 - val_binary_accuracy: 0.7066\n",
      "Epoch 2/10\n",
      "625/625 [==============================] - 36s 56ms/step - loss: 0.6172 - binary_accuracy: 0.7316 - val_loss: 0.5803 - val_binary_accuracy: 0.7582\n",
      "Epoch 3/10\n",
      "625/625 [==============================] - 12s 20ms/step - loss: 0.5475 - binary_accuracy: 0.7758 - val_loss: 0.5165 - val_binary_accuracy: 0.7984\n",
      "Epoch 4/10\n",
      "625/625 [==============================] - 13s 20ms/step - loss: 0.4921 - binary_accuracy: 0.8026 - val_loss: 0.4694 - val_binary_accuracy: 0.8108\n",
      "Epoch 5/10\n",
      "625/625 [==============================] - 14s 22ms/step - loss: 0.4566 - binary_accuracy: 0.8168 - val_loss: 0.4377 - val_binary_accuracy: 0.8228\n",
      "Epoch 6/10\n",
      "625/625 [==============================] - 14s 22ms/step - loss: 0.4304 - binary_accuracy: 0.8235 - val_loss: 0.4169 - val_binary_accuracy: 0.8304\n",
      "Epoch 7/10\n",
      "625/625 [==============================] - 13s 21ms/step - loss: 0.4138 - binary_accuracy: 0.8288 - val_loss: 0.4024 - val_binary_accuracy: 0.8346\n",
      "Epoch 8/10\n",
      "625/625 [==============================] - 17s 26ms/step - loss: 0.4037 - binary_accuracy: 0.8342 - val_loss: 0.3918 - val_binary_accuracy: 0.8378\n",
      "Epoch 9/10\n",
      "625/625 [==============================] - 13s 20ms/step - loss: 0.3926 - binary_accuracy: 0.8376 - val_loss: 0.3840 - val_binary_accuracy: 0.8400\n",
      "Epoch 10/10\n",
      "625/625 [==============================] - 30s 47ms/step - loss: 0.3869 - binary_accuracy: 0.8395 - val_loss: 0.3778 - val_binary_accuracy: 0.8398\n"
     ]
    }
   ],
   "source": [
    "model_h = model.fit(\n",
    "    train_ds,\n",
    "    validation_data=val_ds,\n",
    "    epochs=10)"
   ]
  },
  {
   "cell_type": "code",
   "execution_count": 35,
   "id": "1dfca64b",
   "metadata": {},
   "outputs": [
    {
     "name": "stdout",
     "output_type": "stream",
     "text": [
      "782/782 [==============================] - 86s 109ms/step - loss: 0.3740 - binary_accuracy: 0.8423\n"
     ]
    },
    {
     "data": {
      "text/plain": [
       "[0.373954176902771, 0.8422799706459045]"
      ]
     },
     "execution_count": 35,
     "metadata": {},
     "output_type": "execute_result"
    }
   ],
   "source": [
    "model.evaluate(test_ds)"
   ]
  },
  {
   "cell_type": "code",
   "execution_count": 36,
   "id": "8f7417f8",
   "metadata": {},
   "outputs": [],
   "source": [
    "loss, binary_accuracy, val_loss, val_binary_accuracy = model_h.history.values()"
   ]
  },
  {
   "cell_type": "code",
   "execution_count": 37,
   "id": "4726ef28",
   "metadata": {},
   "outputs": [],
   "source": [
    "import matplotlib.pyplot as plt"
   ]
  },
  {
   "cell_type": "code",
   "execution_count": 38,
   "id": "80d39c0b",
   "metadata": {},
   "outputs": [
    {
     "data": {
      "image/png": "[encoded data removed]",
      "text/plain": [
       "<Figure size 640x480 with 1 Axes>"
      ]
     },
     "metadata": {},
     "output_type": "display_data"
    }
   ],
   "source": [
    "plt.plot(range(1,len(loss)+1),loss,'bo',label = 'loss')\n",
    "plt.plot(range(1,len(loss)+1),val_loss,'b',label = 'val_loss')\n",
    "plt.legend()\n",
    "plt.show()"
   ]
  },
  {
   "cell_type": "code",
   "execution_count": 39,
   "id": "99dc1137",
   "metadata": {},
   "outputs": [
    {
     "data": {
      "image/png": "[encoded data removed]",
      "text/plain": [
       "<Figure size 640x480 with 1 Axes>"
      ]
     },
     "metadata": {},
     "output_type": "display_data"
    }
   ],
   "source": [
    "plt.plot(range(1,len(loss)+1),binary_accuracy,'bo',label = 'accuracy')\n",
    "plt.plot(range(1,len(loss)+1),val_binary_accuracy,'b',label = 'val_bnary_accuracy')\n",
    "plt.legend()\n",
    "plt.show()"
   ]
  },
  {
   "cell_type": "code",
   "execution_count": 40,
   "id": "e3eee95f",
   "metadata": {},
   "outputs": [],
   "source": [
    "model_final = keras.models.Sequential([\n",
    "    vectorization_layer,\n",
    "    model,\n",
    "    keras.layers.Activation('sigmoid')\n",
    "])"
   ]
  },
  {
   "cell_type": "code",
   "execution_count": 41,
   "id": "cefcde44",
   "metadata": {},
   "outputs": [],
   "source": [
    "model_final.compile(\n",
    "    loss=keras.losses.BinaryCrossentropy(from_logits=False),\n",
    "    metrics=['accuracy'],\n",
    "    optimizer='adam'\n",
    ")"
   ]
  },
  {
   "cell_type": "code",
   "execution_count": 42,
   "id": "e539eb92",
   "metadata": {},
   "outputs": [
    {
     "name": "stdout",
     "output_type": "stream",
     "text": [
      "Epoch 1/10\n",
      "625/625 [==============================] - 43s 65ms/step - loss: 0.3801 - accuracy: 0.8418 - val_loss: 0.3733 - val_accuracy: 0.8410\n",
      "Epoch 2/10\n",
      "625/625 [==============================] - 15s 24ms/step - loss: 0.3741 - accuracy: 0.8459 - val_loss: 0.3694 - val_accuracy: 0.8416\n",
      "Epoch 3/10\n",
      "625/625 [==============================] - 15s 23ms/step - loss: 0.3701 - accuracy: 0.8443 - val_loss: 0.3670 - val_accuracy: 0.8430\n",
      "Epoch 4/10\n",
      "625/625 [==============================] - 15s 23ms/step - loss: 0.3672 - accuracy: 0.8451 - val_loss: 0.3648 - val_accuracy: 0.8426\n",
      "Epoch 5/10\n",
      "625/625 [==============================] - 17s 26ms/step - loss: 0.3652 - accuracy: 0.8483 - val_loss: 0.3625 - val_accuracy: 0.8422\n",
      "Epoch 6/10\n",
      "625/625 [==============================] - 15s 24ms/step - loss: 0.3620 - accuracy: 0.8500 - val_loss: 0.3602 - val_accuracy: 0.8438\n",
      "Epoch 7/10\n",
      "625/625 [==============================] - 15s 24ms/step - loss: 0.3613 - accuracy: 0.8472 - val_loss: 0.3601 - val_accuracy: 0.8438\n",
      "Epoch 8/10\n",
      "625/625 [==============================] - 14s 22ms/step - loss: 0.3583 - accuracy: 0.8464 - val_loss: 0.3581 - val_accuracy: 0.8456\n",
      "Epoch 9/10\n",
      "625/625 [==============================] - 14s 22ms/step - loss: 0.3576 - accuracy: 0.8515 - val_loss: 0.3583 - val_accuracy: 0.8442\n",
      "Epoch 10/10\n",
      "625/625 [==============================] - 14s 22ms/step - loss: 0.3535 - accuracy: 0.8513 - val_loss: 0.3575 - val_accuracy: 0.8454\n"
     ]
    }
   ],
   "source": [
    "model_final_h = model_final.fit(raw_train_ds,validation_data=raw_val_ds,epochs=10)"
   ]
  },
  {
   "cell_type": "code",
   "execution_count": 43,
   "id": "9d783a7a",
   "metadata": {},
   "outputs": [
    {
     "data": {
      "text/plain": [
       "dict_keys(['loss', 'accuracy', 'val_loss', 'val_accuracy'])"
      ]
     },
     "execution_count": 43,
     "metadata": {},
     "output_type": "execute_result"
    }
   ],
   "source": [
    "model_final_h.history.keys()"
   ]
  },
  {
   "cell_type": "code",
   "execution_count": 44,
   "id": "6fbea07e",
   "metadata": {},
   "outputs": [],
   "source": [
    "f_loss, f_accuracy, f_val_loss, f_val_accuracy = model_final_h.history.values()"
   ]
  },
  {
   "cell_type": "code",
   "execution_count": 45,
   "id": "36034531",
   "metadata": {},
   "outputs": [
    {
     "data": {
      "image/png": "[encoded data removed]",
      "text/plain": [
       "<Figure size 640x480 with 1 Axes>"
      ]
     },
     "metadata": {},
     "output_type": "display_data"
    }
   ],
   "source": [
    "plt.plot(range(1,len(f_loss)+1),f_accuracy,'bo',label = 'accuracy')\n",
    "plt.plot(range(1,len(loss)+1),f_val_accuracy,'b',label = 'val_accuracy')\n",
    "plt.legend()\n",
    "plt.show()"
   ]
  },
  {
   "cell_type": "code",
   "execution_count": 46,
   "id": "7614888c",
   "metadata": {},
   "outputs": [
    {
     "data": {
      "image/png": "[encoded data removed]",
      "text/plain": [
       "<Figure size 640x480 with 1 Axes>"
      ]
     },
     "metadata": {},
     "output_type": "display_data"
    }
   ],
   "source": [
    "plt.plot(range(1,len(f_loss)+1),f_loss,'bo',label = 'loss')\n",
    "plt.plot(range(1,len(loss)+1),f_val_loss,'b',label = 'val_loss')\n",
    "plt.legend()\n",
    "plt.show()"
   ]
  },
  {
   "cell_type": "code",
   "execution_count": 48,
   "id": "2104160e",
   "metadata": {},
   "outputs": [
    {
     "name": "stdout",
     "output_type": "stream",
     "text": [
      "782/782 [==============================] - 69s 87ms/step\n"
     ]
    },
    {
     "data": {
      "text/plain": [
       "array([[0.00161581],\n",
       "       [0.03524538],\n",
       "       [0.08911232],\n",
       "       ...,\n",
       "       [0.81946146],\n",
       "       [0.6609948 ],\n",
       "       [0.99016935]], dtype=float32)"
      ]
     },
     "execution_count": 48,
     "metadata": {},
     "output_type": "execute_result"
    }
   ],
   "source": [
    "model_final.predict(raw_test_ds)"
   ]
  },
  {
   "cell_type": "code",
   "execution_count": 49,
   "id": "5307f096",
   "metadata": {},
   "outputs": [
    {
     "name": "stdout",
     "output_type": "stream",
     "text": [
      "782/782 [==============================] - 12s 15ms/step - loss: 0.3512 - accuracy: 0.8490\n"
     ]
    },
    {
     "data": {
      "text/plain": [
       "[0.3512180745601654, 0.8489599823951721]"
      ]
     },
     "execution_count": 49,
     "metadata": {},
     "output_type": "execute_result"
    }
   ],
   "source": [
    "model_final.evaluate(raw_test_ds)"
   ]
  },
  {
   "cell_type": "code",
   "execution_count": 51,
   "id": "21fe1135",
   "metadata": {},
   "outputs": [
    {
     "name": "stderr",
     "output_type": "stream",
     "text": [
      "WARNING:absl:Found untraced functions such as _update_step_xla, _update_step_xla while saving (showing 2 of 2). These functions will not be directly callable after loading.\n"
     ]
    },
    {
     "name": "stdout",
     "output_type": "stream",
     "text": [
      "INFO:tensorflow:Assets written to: Text_Classifier_Model/model\\assets\n"
     ]
    },
    {
     "name": "stderr",
     "output_type": "stream",
     "text": [
      "INFO:tensorflow:Assets written to: Text_Classifier_Model/model\\assets\n"
     ]
    }
   ],
   "source": [
    "model_final.save('Text_Classifier_Model/model')"
   ]
  },
  {
   "cell_type": "code",
   "execution_count": null,
   "id": "fc518dba",
   "metadata": {},
   "outputs": [],
   "source": []
  },
  {
   "cell_type": "code",
   "execution_count": null,
   "id": "36325ad0",
   "metadata": {},
   "outputs": [],
   "source": []
  },
  {
   "cell_type": "code",
   "execution_count": null,
   "id": "4e1af449",
   "metadata": {},
   "outputs": [],
   "source": []
  },
  {
   "cell_type": "code",
   "execution_count": null,
   "id": "ac0089ec",
   "metadata": {},
   "outputs": [],
   "source": []
  },
  {
   "cell_type": "code",
   "execution_count": null,
   "id": "32a3118f",
   "metadata": {},
   "outputs": [],
   "source": []
  },
  {
   "cell_type": "code",
   "execution_count": null,
   "id": "c2b21c12",
   "metadata": {},
   "outputs": [],
   "source": []
  },
  {
   "cell_type": "code",
   "execution_count": null,
   "id": "848c8cdc",
   "metadata": {},
   "outputs": [],
   "source": []
  },
  {
   "cell_type": "code",
   "execution_count": null,
   "id": "6b2172ec",
   "metadata": {},
   "outputs": [],
   "source": []
  },
  {
   "cell_type": "code",
   "execution_count": null,
   "id": "dc780d02",
   "metadata": {},
   "outputs": [],
   "source": []
  },
  {
   "cell_type": "code",
   "execution_count": null,
   "id": "bc227296",
   "metadata": {},
   "outputs": [],
   "source": []
  },
  {
   "cell_type": "code",
   "execution_count": null,
   "id": "c6228688",
   "metadata": {},
   "outputs": [],
   "source": []
  },
  {
   "cell_type": "code",
   "execution_count": null,
   "id": "5a227b8b",
   "metadata": {},
   "outputs": [],
   "source": []
  },
  {
   "cell_type": "code",
   "execution_count": null,
   "id": "eef9bb75",
   "metadata": {},
   "outputs": [],
   "source": []
  }
 ],
 "metadata": {
  "kernelspec": {
   "display_name": "Python 3 (ipykernel)",
   "language": "python",
   "name": "python3"
  },
  "language_info": {
   "codemirror_mode": {
    "name": "ipython",
    "version": 3
   },
   "file_extension": ".py",
   "mimetype": "text/x-python",
   "name": "python",
   "nbconvert_exporter": "python",
   "pygments_lexer": "ipython3",
   "version": "3.11.3"
  }
 },
 "nbformat": 4,
 "nbformat_minor": 5
}
